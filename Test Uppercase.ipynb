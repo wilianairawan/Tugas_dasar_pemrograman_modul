{
 "cells": [
  {
   "cell_type": "code",
   "execution_count": 13,
   "id": "a9d5e8e3-336c-43b5-82f9-409cedf70850",
   "metadata": {},
   "outputs": [
    {
     "name": "stdout",
     "output_type": "stream",
     "text": [
      "Jumlah huruf besar dalam teks: 7\n"
     ]
    }
   ],
   "source": [
    "# Mengimpor fungsi dari modul uppercase_counter.py\n",
    "from uppercase_counter import count_uppercase_letters\n",
    "\n",
    "# Contoh teks\n",
    "text = \"Ini Adalah TesT UpperCaSe.\"\n",
    "\n",
    "# Menghitung jumlah huruf besar\n",
    "uppercase_count = count_uppercase_letters(text)\n",
    "\n",
    "# Menampilkan hasil\n",
    "print(f\"Jumlah huruf besar dalam teks: {uppercase_count}\")\n"
   ]
  },
  {
   "cell_type": "code",
   "execution_count": null,
   "id": "9343e758-b78a-42b8-8f12-ffa55df503c2",
   "metadata": {},
   "outputs": [],
   "source": []
  },
  {
   "cell_type": "code",
   "execution_count": null,
   "id": "dbf3c248-bc28-4a2d-8fbe-de4a90283169",
   "metadata": {},
   "outputs": [],
   "source": []
  }
 ],
 "metadata": {
  "kernelspec": {
   "display_name": "Python 3 (ipykernel)",
   "language": "python",
   "name": "python3"
  },
  "language_info": {
   "codemirror_mode": {
    "name": "ipython",
    "version": 3
   },
   "file_extension": ".py",
   "mimetype": "text/x-python",
   "name": "python",
   "nbconvert_exporter": "python",
   "pygments_lexer": "ipython3",
   "version": "3.11.7"
  }
 },
 "nbformat": 4,
 "nbformat_minor": 5
}
