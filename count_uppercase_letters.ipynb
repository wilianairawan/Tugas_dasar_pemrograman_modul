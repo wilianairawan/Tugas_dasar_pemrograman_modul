{
 "cells": [
  {
   "cell_type": "code",
   "execution_count": 15,
   "id": "16959e5b-e1dd-4c17-9754-5c0f1b6e5a74",
   "metadata": {},
   "outputs": [
    {
     "name": "stdout",
     "output_type": "stream",
     "text": [
      "Jumlah huruf besar dalam teks: 12\n"
     ]
    }
   ],
   "source": [
    "# Mengimpor fungsi dari modul uppercase_counter.py\n",
    "from uppercase_counter import count_uppercase_letters\n",
    "\n",
    "# Contoh teks\n",
    "text = \"HELLO, WORLD! This is a Test.\"\n",
    "\n",
    "# Menghitung jumlah huruf besar\n",
    "uppercase_count = count_uppercase_letters(text)\n",
    "\n",
    "# Menampilkan hasil\n",
    "print(f\"Jumlah huruf besar dalam teks: {uppercase_count}\")\n"
   ]
  }
 ],
 "metadata": {
  "kernelspec": {
   "display_name": "Python 3 (ipykernel)",
   "language": "python",
   "name": "python3"
  },
  "language_info": {
   "codemirror_mode": {
    "name": "ipython",
    "version": 3
   },
   "file_extension": ".py",
   "mimetype": "text/x-python",
   "name": "python",
   "nbconvert_exporter": "python",
   "pygments_lexer": "ipython3",
   "version": "3.11.7"
  }
 },
 "nbformat": 4,
 "nbformat_minor": 5
}
